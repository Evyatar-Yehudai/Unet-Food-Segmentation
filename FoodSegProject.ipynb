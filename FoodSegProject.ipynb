version https://git-lfs.github.com/spec/v1
oid sha256:8a2e43e7f0e961b83c46fb4598a51b56138cee310f8995de9eafec6a105ede6f
size 854654
