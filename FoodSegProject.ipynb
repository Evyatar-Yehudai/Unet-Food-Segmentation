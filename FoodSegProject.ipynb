version https://git-lfs.github.com/spec/v1
oid sha256:3241528dd3641c9617df6d3bf8dfc6195d794c63a1045cd5f7102e80c27a89ad
size 853024
